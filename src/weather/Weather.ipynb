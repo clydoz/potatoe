{
 "cells": [
  {
   "cell_type": "code",
   "execution_count": 52,
   "metadata": {},
   "outputs": [],
   "source": [
    "import json\n",
    "f = open ('../data/mlb_stadium.json','r')\n",
    "stadia_json = f.read()\n",
    "f.closed\n",
    "\n",
    "# stadia is a dictionary with team name, lat and lng\n",
    "stadia = json.loads(stadia_json)\n",
    "l=len (stadia)\n",
    "#print (stadia[0])\n",
    "#for x in range (0,l):\n",
    "#    print (stadia[x]['team'],',',stadia[x]['lat'],',', stadia[x]['lng'])"
   ]
  },
  {
   "cell_type": "code",
   "execution_count": 55,
   "metadata": {},
   "outputs": [
    {
     "name": "stdout",
     "output_type": "stream",
     "text": [
      "{'team': 'Anaheim Angels', 'address': '2000 Gene Autry Way, Anaheim, CA. 92806', 'lat': 33.799572, 'lng': -117.889031}\n"
     ]
    }
   ],
   "source": [
    "# stadia is a dictionary with team name, lat and lng\n",
    "print (stadia[0])"
   ]
  }
 ],
 "metadata": {
  "kernelspec": {
   "display_name": "Python 3",
   "language": "python",
   "name": "python3"
  },
  "language_info": {
   "codemirror_mode": {
    "name": "ipython",
    "version": 3
   },
   "file_extension": ".py",
   "mimetype": "text/x-python",
   "name": "python",
   "nbconvert_exporter": "python",
   "pygments_lexer": "ipython3",
   "version": "3.6.1"
  }
 },
 "nbformat": 4,
 "nbformat_minor": 2
}
